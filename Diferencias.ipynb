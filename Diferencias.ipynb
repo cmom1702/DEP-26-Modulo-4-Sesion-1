{
 "cells": [
  {
   "cell_type": "markdown",
   "id": "5fb4334f",
   "metadata": {},
   "source": [
    "Lista (list)\n",
    "📦 Colección ordenada y mutable (se puede modificar).\n",
    "\n",
    "✅ Permite elementos duplicados.\n",
    "\n",
    "🔢 Se accede por índice ([0], [1], etc.)."
   ]
  },
  {
   "cell_type": "code",
   "execution_count": 1,
   "id": "07c49fb0",
   "metadata": {},
   "outputs": [],
   "source": [
    "mi_lista = [1, 2, 3, 4]\n",
    "mi_lista[1] = 99  # Puedes modificar\n"
   ]
  },
  {
   "cell_type": "markdown",
   "id": "cd4d8280",
   "metadata": {},
   "source": [
    "Tupla (tuple)\n",
    "📦 Colección ordenada, pero inmutable (no se puede modificar).\n",
    "\n",
    "✅ Permite elementos duplicados.\n",
    "\n",
    "🔢 Se accede por índice igual que las listas."
   ]
  },
  {
   "cell_type": "code",
   "execution_count": 2,
   "id": "0ea64a6b",
   "metadata": {},
   "outputs": [],
   "source": [
    "mi_tupla = (1, 2, 3, 4)\n",
    "# mi_tupla[1] = 99  # ❌ Esto da error: no puedes modificar una tupla\n"
   ]
  },
  {
   "cell_type": "markdown",
   "id": "8faf6c08",
   "metadata": {},
   "source": [
    "Diccionario (dict)\n",
    "📘 Colección no ordenada (en versiones recientes se mantiene el orden de inserción) y mutable.\n",
    "\n",
    "🔑 Los datos se guardan como pares clave: valor.\n",
    "\n",
    "❌ No permite claves duplicadas."
   ]
  },
  {
   "cell_type": "code",
   "execution_count": null,
   "id": "cb1229e4",
   "metadata": {},
   "outputs": [],
   "source": [
    "mi_diccionario = {\n",
    "    \"nombre\": \"Ana\",\n",
    "    \"edad\": 30}\n",
    "\n",
    "print(mi_diccionario[\"nombre\"])  # Ana\n",
    "\n",
    "mi_diccionario[\"edad\"] = 31      # Puedes modificar el valor\n"
   ]
  },
  {
   "cell_type": "markdown",
   "id": "937624fb",
   "metadata": {},
   "source": [
    "⚖️ Resumen comparativo:\n",
    "\n",
    "Tipo\tOrdenado\tMutable\tDuplicados\tAcceso\n",
    "Lista\tSí\tSí\tSí\tPor índice\n",
    "Tupla\tSí\tNo\tSí\tPor índice\n",
    "Diccionario\tSí*\tSí\tNo (claves)\tPor clave\n",
    "\n",
    "*Desde Python 3.7 los diccionarios mantienen el orden de inserción."
   ]
  }
 ],
 "metadata": {
  "kernelspec": {
   "display_name": "DEP-3-12-9",
   "language": "python",
   "name": "python3"
  },
  "language_info": {
   "codemirror_mode": {
    "name": "ipython",
    "version": 3
   },
   "file_extension": ".py",
   "mimetype": "text/x-python",
   "name": "python",
   "nbconvert_exporter": "python",
   "pygments_lexer": "ipython3",
   "version": "3.12.9"
  }
 },
 "nbformat": 4,
 "nbformat_minor": 5
}
